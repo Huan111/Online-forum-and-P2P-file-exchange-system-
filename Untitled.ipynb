{
 "cells": [
  {
   "cell_type": "code",
   "execution_count": 16,
   "metadata": {},
   "outputs": [
    {
     "data": {
      "text/plain": [
       "'Hans, 127.0.0.1, 6666, active since 29 Mar 2021 17:13:48\\nyoda, 127.0.0.1, 7777, active since 29 Mar 2021 17:14:05\\n'"
      ]
     },
     "execution_count": 16,
     "metadata": {},
     "output_type": "execute_result"
    }
   ],
   "source": [
    "user = 'Hans'\n",
    "with open('userlog.txt') as f:\n",
    "    d = f.readlines()\n",
    "    temp_str = ''\n",
    "    for i in d:\n",
    "        temp_list = i.strip().split('; ')\n",
    "        name = temp_list[2]\n",
    "        if user == name:\n",
    "            continue\n",
    "        t = temp_list[1]\n",
    "        ip = temp_list[-2]\n",
    "        port = temp_list[-1]\n",
    "        temp_str += name + ', '+ ip + ', ' + port + ', active since ' + t +'\\n'\n",
    "temp_str"
   ]
  },
  {
   "cell_type": "code",
   "execution_count": 15,
   "metadata": {},
   "outputs": [
    {
     "data": {
      "text/plain": [
       "'Hans, 127.0.0.1, 6666, active since 29 Mar 2021 16:55:18\\n'"
      ]
     },
     "execution_count": 15,
     "metadata": {},
     "output_type": "execute_result"
    }
   ],
   "source": [
    "temp_str = ''\n",
    "temp_list = d[0].strip().split('; ')\n",
    "name = temp_list[2]\n",
    "t = temp_list[1]\n",
    "ip = temp_list[-2]\n",
    "port = temp_list[-1]\n",
    "temp_str += name + ', '+ ip + ', ' + port + ', active since ' + t +'\\n'\n",
    "temp_str"
   ]
  },
  {
   "cell_type": "code",
   "execution_count": 1,
   "metadata": {},
   "outputs": [],
   "source": [
    "temp_list = '#2 29 Mar 2021 16:45:54'.strip().split()\n",
    "user = 'Hans'\n",
    "user_msg_list = []\n",
    "check = ' '.join(temp_list[1:]) + ' ' + user\n",
    "#extract the message file\n",
    "with open(\"messagelog1.txt\", \"r\") as f:\n",
    "    d = f.readlines()\n",
    "    for i in d:\n",
    "        lst = i.strip().split('; ')\n",
    "        temp_user = lst[2]\n",
    "        temp_mg = lst[1]\n",
    "        temp_num = lst[0]\n",
    "        user_msg_list.append( '#' + temp_num + ' ' + temp_mg + ' ' + temp_user)\n",
    "#if the 3 condctions are not matched, send back error message \n",
    "if check not in user_msg_list:\n",
    "    #conn.send('Delete the message fail. Please check the input.')\n",
    "    #print('in list')\n",
    "    pass\n",
    "#if match, find the corresponding seq number then delete, and move up\n",
    "else:\n",
    "    idx = user_msg_list.index(check) + 1\n",
    "    with open('messagelog1.txt','r+') as f:\n",
    "        d = f.readlines()\n",
    "        f.seek(0)\n",
    "        for i in d:\n",
    "            temp_lst = i.strip().split('; ')\n",
    "            if int(temp_lst[0]) != idx:\n",
    "                if int(temp_lst[0]) > idx:\n",
    "                    new_idx = str(int(temp_lst[0]) - 1)\n",
    "                    temp_lst[0] = new_idx\n",
    "                    i = '; '.join(temp_lst) + '\\n'\n",
    "                else:\n",
    "                    pass\n",
    "                f.write(i)\n",
    "            else:\n",
    "                msg = temp_lst[-2]\n",
    "                continue\n",
    "        f.truncate()\n",
    "#if the user sent a message\n",
    "#with open('messagelog1.txt','r+') as f:#\n",
    "#    d = f.readlines()\n",
    "    #f.seek(0)\n",
    "    #if the current time is 10s less than the last failed login time. remain in the block list\n",
    "    #for i in d:\n",
    "    #    b_t = float(i.strip().split()[1])\n",
    "    #    if (t - b_t) <= 10:\n",
    "    #        f.write(i)\n",
    "    #f.truncate()\n",
    "#loop through all the message\n",
    "#i = d[0].strip().split('; ')\n",
    "#del_user = i[2]\n",
    "#if the name not match,\n",
    "#if user != del_user:\n",
    "    \n",
    "#    pass\n",
    "#else:\n",
    "#    temp_msg = '#' + i[0] + ' ' + i[1]\n",
    "#    if temp_msg != check:\n",
    "#        if int(temp[0]) > check_num:\n",
    "#            pass\n",
    "#    else:\n",
    "#        pass"
   ]
  },
  {
   "cell_type": "code",
   "execution_count": null,
   "metadata": {},
   "outputs": [],
   "source": [
    "user = 'Hans'\n",
    "user_msg_list = []\n",
    "check = ' '.join(temp_list[1:]) + ' ' + user\n",
    "#extract the message file\n",
    "with open(\"messagelog1.txt\", \"r\") as f:\n",
    "    d = f.readlines()\n",
    "    for i in d:\n",
    "        lst = i.strip().split('; ')\n",
    "        temp_user = lst[2]\n",
    "        temp_mg = lst[1]\n",
    "        temp_num = lst[0]\n",
    "        user_msg_list.append( '#' + temp_num + ' ' + temp_mg + ' ' + temp_user)\n",
    "#if the 3 condctions are not matched, send back error message \n",
    "if check not in user_msg_list:\n",
    "    #conn.send('Delete the message fail. Please check the input.')\n",
    "    #print('in list')\n",
    "    pass\n",
    "#if match, find the corresponding seq number then delete, and move up\n",
    "else:\n",
    "    idx = user_msg_list.index(check) + 1\n",
    "    with open('messagelog1.txt','r+') as f:\n",
    "        d = f.readlines()\n",
    "        f.seek(0)\n",
    "        for i in d:\n",
    "            temp_lst = i.strip().split('; ')\n",
    "            if int(temp_lst[0]) != idx:\n",
    "                if int(temp_lst[0]) > idx:\n",
    "                    new_idx = str(int(temp_lst[0]) - 1)\n",
    "                    temp_lst[0] = new_idx\n",
    "                    i = '; '.join(temp_lst) + '\\n'\n",
    "                else:\n",
    "                    pass\n",
    "                f.write(i)\n",
    "            else:\n",
    "                msg = temp_lst[-2]\n",
    "                continue\n",
    "        f.truncate()"
   ]
  },
  {
   "cell_type": "code",
   "execution_count": 21,
   "metadata": {},
   "outputs": [
    {
     "data": {
      "text/plain": [
       "['3', '29 Mar 2021 16:46:03', 'Hans', 'bye', 'no']"
      ]
     },
     "execution_count": 21,
     "metadata": {},
     "output_type": "execute_result"
    }
   ],
   "source": [
    "temp_lst"
   ]
  },
  {
   "cell_type": "code",
   "execution_count": 50,
   "metadata": {},
   "outputs": [],
   "source": [
    "temp_list = '#2 30 Mar 2021 11:08:10 kkk.'.strip().split()\n",
    "user = 'yoda'\n",
    "user_msg_list = []\n",
    "check = ' '.join(temp_list[:5]) + ' ' + user\n",
    "new_msg = ' '.join(temp_list[5:])\n",
    "#extract the message file\n",
    "with open(\"messagelog.txt\", \"r\") as f:\n",
    "    d = f.readlines()\n",
    "    for i in d:\n",
    "        lst = i.strip().split('; ')\n",
    "        temp_user = lst[2]\n",
    "        temp_mg = lst[1]\n",
    "        temp_num = lst[0]\n",
    "        user_msg_list.append( '#' + temp_num + ' ' + temp_mg + ' ' + temp_user)\n",
    "#if the 3 condctions are not matched, send back error message \n",
    "if check not in user_msg_list:\n",
    "    #conn.send('Delete the message fail. Please check the input.')\n",
    "    print('not in list')\n",
    "    pass\n",
    "else:\n",
    "    idx = user_msg_list.index(check) + 1\n",
    "    with open('messagelog.txt','r+') as f:\n",
    "        d = f.readlines()\n",
    "        f.seek(0)\n",
    "        for i in d:\n",
    "            temp_lst = i.strip().split('; ')\n",
    "            if int(temp_lst[0]) == idx:\n",
    "                t = time.ctime().split()\n",
    "                cur_t = t[2] + ' ' + t[1] + ' ' + t[-1] + ' ' + t[-2]\n",
    "                temp_lst[1] = cur_t\n",
    "                temp_lst[-1] = 'yes'\n",
    "                temp_lst[-2] = new_msg\n",
    "                i = '; '.join(temp_lst) + '\\n'\n",
    "            else:\n",
    "                pass\n",
    "            f.write(i)\n",
    "        f.truncate()"
   ]
  },
  {
   "cell_type": "code",
   "execution_count": 121,
   "metadata": {},
   "outputs": [
    {
     "name": "stdout",
     "output_type": "stream",
     "text": [
      "#2; Hans: \"hello\" posted at 30 Mar 2021 12:40:44.\n",
      "#3; Hans: \"yes\" posted at 30 Mar 2021 12:40:50.\n",
      "\n"
     ]
    }
   ],
   "source": [
    "temp_list = '30 Mar 2021 12:08:10'.strip().split()\n",
    "date_time_str = ' '.join(temp_list)\n",
    "try:\n",
    "    comp_date = datetime.datetime.strptime(date_time_str, '%d %b %Y %H:%M:%S')\n",
    "except:\n",
    "    #conn.send('Read message fail. Invalid datetime format.'.encode())\n",
    "    #return False\n",
    "    #print('Read message fail. Invalid datetime format.')\n",
    "    pass\n",
    "msg = ''\n",
    "with open(\"messagelog.txt\", \"r\") as f:\n",
    "    d = f.readlines()\n",
    "    for i in d:\n",
    "        temp = i.strip().split('; ')\n",
    "        temp_date = temp[1]\n",
    "        date_time_obj = datetime.datetime.strptime(temp_date, '%d %b %Y %H:%M:%S')\n",
    "        if date_time_obj >= comp_date:\n",
    "            msg += '#' + temp[0] + '; ' + temp[-3] + ': ' + f'\"{temp[-2]}\" ' + 'posted at ' + temp[1] + '.\\n'\n",
    "if msg == '':\n",
    "    #conn.send('Read message fail. There is no new message'.encode())\n",
    "    print()\n",
    "else:\n",
    "    #conn.send(msg.encode())"
   ]
  },
  {
   "cell_type": "code",
   "execution_count": 125,
   "metadata": {},
   "outputs": [],
   "source": [
    "def a():\n",
    "    return False"
   ]
  },
  {
   "cell_type": "code",
   "execution_count": 135,
   "metadata": {},
   "outputs": [
    {
     "data": {
      "text/plain": [
       "1"
      ]
     },
     "execution_count": 135,
     "metadata": {},
     "output_type": "execute_result"
    }
   ],
   "source": [
    "user = 'Hans'\n",
    "with open('userlog.txt','r') as f:\n",
    "    d = f.readlines()\n",
    "    for i in d:\n",
    "        name = i.strip().split('; ')[2]\n",
    "        if user == name:\n",
    "            idx = int(i.strip().split('; ')[0])\n",
    "            break\n",
    "        else:\n",
    "            continue\n",
    "idx"
   ]
  },
  {
   "cell_type": "code",
   "execution_count": 140,
   "metadata": {},
   "outputs": [
    {
     "data": {
      "text/plain": [
       "['1; 31 Mar 2021 17:41:19; Hans; 192.168.56.1; 7777\\n',\n",
       " '2; 31 Mar 2021 17:42:25; yoda; 192.168.56.1; 6666\\n']"
      ]
     },
     "execution_count": 140,
     "metadata": {},
     "output_type": "execute_result"
    }
   ],
   "source": [
    "with open('userlog.txt','r') as f:\n",
    "    d = f.readlines()\n",
    "d"
   ]
  },
  {
   "cell_type": "code",
   "execution_count": 143,
   "metadata": {},
   "outputs": [],
   "source": [
    "import os \n",
    "os.rename('example1.mp4', 'yoda_example1.mp4')"
   ]
  },
  {
   "cell_type": "code",
   "execution_count": 142,
   "metadata": {},
   "outputs": [
    {
     "name": "stderr",
     "output_type": "stream",
     "text": [
      "'ls' is not recognized as an internal or external command,\n",
      "operable program or batch file.\n"
     ]
    }
   ],
   "source": []
  },
  {
   "cell_type": "code",
   "execution_count": 145,
   "metadata": {},
   "outputs": [
    {
     "data": {
      "text/plain": [
       "'192.168.56.1 7777 yoda_lecture1.mp4'"
      ]
     },
     "execution_count": 145,
     "metadata": {},
     "output_type": "execute_result"
    }
   ],
   "source": [
    "temp_list = 'Hans lecture1.mp4'.strip().split()\n",
    "sender = 'yoda'\n",
    "check_user = temp_list[0]\n",
    "file_name = temp_list[1]\n",
    "users = []\n",
    "ips = []\n",
    "ports = []\n",
    "with open('userlog.txt') as f:\n",
    "    d = f.readlines()\n",
    "    for i in d:\n",
    "        lst = i.strip().split('; ')\n",
    "        users.append(lst[-3])\n",
    "        ips.append(lst[-2])\n",
    "        ports.append(lst[-1])\n",
    "if check_user not in users:\n",
    "    print('user not active')\n",
    "else:\n",
    "    idx = users.index(check_user)\n",
    "    des_ip = ips[idx]\n",
    "    des_port = ports[idx]\n",
    "    file_name = sender + '_' + file_name\n",
    "    msg = des_ip + ' ' + des_port + ' ' + file_name\n",
    "msg"
   ]
  },
  {
   "cell_type": "code",
   "execution_count": 148,
   "metadata": {},
   "outputs": [
    {
     "data": {
      "text/plain": [
       "'192.168.56.1 7777 yoda_lecture1.mp4'"
      ]
     },
     "execution_count": 148,
     "metadata": {},
     "output_type": "execute_result"
    }
   ],
   "source": [
    "'192.168.56.1 7777 yoda_lecture1.mp4\\nEnter one of the following commands (MSG, DLT, EDT, RDM, ATU, OUT, UDP):'.strip().split('\\n')[0]"
   ]
  },
  {
   "cell_type": "code",
   "execution_count": 146,
   "metadata": {},
   "outputs": [
    {
     "data": {
      "text/plain": [
       "['1; 31 Mar 2021 17:41:19; Hans; 192.168.56.1; 7777\\n',\n",
       " '2; 31 Mar 2021 17:42:25; yoda; 192.168.56.1; 6666\\n']"
      ]
     },
     "execution_count": 146,
     "metadata": {},
     "output_type": "execute_result"
    }
   ],
   "source": [
    "d"
   ]
  },
  {
   "cell_type": "code",
   "execution_count": null,
   "metadata": {},
   "outputs": [],
   "source": [
    "while 1:\n",
    "    time.sleep(0.1)"
   ]
  },
  {
   "cell_type": "code",
   "execution_count": 136,
   "metadata": {},
   "outputs": [
    {
     "name": "stdout",
     "output_type": "stream",
     "text": [
      "Hans logged out.\n"
     ]
    }
   ],
   "source": [
    "user = 'Hans'\n",
    "with open('userlog.txt','r') as f:\n",
    "    d = f.readlines()\n",
    "    for i in d:\n",
    "        name = i.strip().split('; ')[2]\n",
    "        if user == name:\n",
    "            idx = int(i.strip().split('; ')[0])\n",
    "            break\n",
    "        else:\n",
    "            continue\n",
    "with open('userlog.txt','r+') as f:\n",
    "    d = f.readlines()\n",
    "    f.seek(0)\n",
    "    #remove the user in the active user log\n",
    "    for i in d:\n",
    "        temp_list = i.strip().split('; ')\n",
    "        if temp_list[2] != user:\n",
    "            if int(temp_list[0]) > idx:\n",
    "                new_idx = str(int(temp_list[0]) - 1)\n",
    "                temp_list[0] = new_idx\n",
    "                i = '; '.join(temp_list) + '\\n'\n",
    "            else:\n",
    "                pass\n",
    "            f.write(i)\n",
    "    f.truncate()\n",
    "print(f'{user} logged out.')"
   ]
  },
  {
   "cell_type": "code",
   "execution_count": 133,
   "metadata": {},
   "outputs": [
    {
     "name": "stdout",
     "output_type": "stream",
     "text": [
      "3\n",
      "7\n"
     ]
    }
   ],
   "source": [
    "a =4\n",
    "if a == 1:\n",
    "    print(1)\n",
    "elif a == 2:\n",
    "    print(2)\n",
    "else:\n",
    "    print(3)\n",
    "print(7)"
   ]
  },
  {
   "cell_type": "code",
   "execution_count": 130,
   "metadata": {},
   "outputs": [
    {
     "name": "stdout",
     "output_type": "stream",
     "text": [
      " \n",
      "123\n"
     ]
    }
   ],
   "source": [
    "while message.strip() == '':\n",
    "    message = input()"
   ]
  },
  {
   "cell_type": "code",
   "execution_count": 117,
   "metadata": {},
   "outputs": [
    {
     "name": "stdout",
     "output_type": "stream",
     "text": [
      "2021-04-30 11:08:10\n"
     ]
    }
   ],
   "source": [
    "print(comp_date)"
   ]
  },
  {
   "cell_type": "code",
   "execution_count": 118,
   "metadata": {},
   "outputs": [
    {
     "name": "stdout",
     "output_type": "stream",
     "text": [
      "2021-04-30 11:08:10\n"
     ]
    }
   ],
   "source": [
    "print(date_time_obj)"
   ]
  },
  {
   "cell_type": "code",
   "execution_count": 110,
   "metadata": {},
   "outputs": [
    {
     "data": {
      "text/plain": [
       "['1; 30 Mar 2021 12:00:08; yoda; lll; no\\n',\n",
       " '2; 30 Mar 2021 12:40:44; Hans; hello; no\\n',\n",
       " '3; 30 Mar 2021 12:40:50; Hans; yes; no\\n']"
      ]
     },
     "execution_count": 110,
     "metadata": {},
     "output_type": "execute_result"
    }
   ],
   "source": [
    "d"
   ]
  },
  {
   "cell_type": "code",
   "execution_count": 111,
   "metadata": {},
   "outputs": [
    {
     "data": {
      "text/plain": [
       "'3; 30 Mar 2021 12:40:50; Hans; yes; no\\n'"
      ]
     },
     "execution_count": 111,
     "metadata": {},
     "output_type": "execute_result"
    }
   ],
   "source": [
    "i"
   ]
  },
  {
   "cell_type": "code",
   "execution_count": 55,
   "metadata": {},
   "outputs": [
    {
     "data": {
      "text/plain": [
       "'30 Mar 2021 11:08:10'"
      ]
     },
     "execution_count": 55,
     "metadata": {},
     "output_type": "execute_result"
    }
   ],
   "source": [
    "temp_list = '30 Mar 2021 11:08:10'.strip().split()\n",
    "date_time_str = ' '.join(temp_list)\n",
    "date_time_str"
   ]
  },
  {
   "cell_type": "code",
   "execution_count": null,
   "metadata": {},
   "outputs": [],
   "source": [
    "temp_list[1] + ' ' + temp_list"
   ]
  },
  {
   "cell_type": "code",
   "execution_count": 54,
   "metadata": {},
   "outputs": [],
   "source": [
    "import datetime"
   ]
  },
  {
   "cell_type": "code",
   "execution_count": 56,
   "metadata": {},
   "outputs": [
    {
     "name": "stdout",
     "output_type": "stream",
     "text": [
      "Date: 2021-03-30\n",
      "Time: 11:08:10\n",
      "Date-time: 2021-03-30 11:08:10\n"
     ]
    }
   ],
   "source": [
    "#date_time_str = 'Jun 28 2018 7:40AM'\n",
    "#                '30 Mar 2021 11:08:10'\n",
    "date_time_obj = datetime.datetime.strptime(date_time_str, '%d %b %Y %H:%M:%S')\n",
    "\n",
    "print('Date:', date_time_obj.date())\n",
    "print('Time:', date_time_obj.time())\n",
    "print('Date-time:', date_time_obj)"
   ]
  },
  {
   "cell_type": "code",
   "execution_count": 100,
   "metadata": {},
   "outputs": [
    {
     "data": {
      "text/plain": [
       "True"
      ]
     },
     "execution_count": 100,
     "metadata": {},
     "output_type": "execute_result"
    }
   ],
   "source": [
    "date_time_str2 = '31 Mar 2021 11:08:10'\n",
    "date_time_obj2 = datetime.datetime.strptime(date_time_str2, '%d %b %Y %H:%M:%S')\n",
    "\n",
    "date_time_obj2 >= date_time_obj"
   ]
  },
  {
   "cell_type": "code",
   "execution_count": 97,
   "metadata": {},
   "outputs": [
    {
     "name": "stdout",
     "output_type": "stream",
     "text": [
      "2021-03-31 11:08:10\n"
     ]
    }
   ],
   "source": [
    "print(date_time_obj2)"
   ]
  },
  {
   "cell_type": "code",
   "execution_count": 95,
   "metadata": {},
   "outputs": [
    {
     "name": "stdout",
     "output_type": "stream",
     "text": [
      "2021-03-30 11:08:10\n"
     ]
    }
   ],
   "source": [
    "print(date_time_obj)"
   ]
  },
  {
   "cell_type": "code",
   "execution_count": 81,
   "metadata": {},
   "outputs": [
    {
     "ename": "AttributeError",
     "evalue": "'datetime.timedelta' object has no attribute 'month'",
     "output_type": "error",
     "traceback": [
      "\u001b[1;31m---------------------------------------------------------------------------\u001b[0m",
      "\u001b[1;31mAttributeError\u001b[0m                            Traceback (most recent call last)",
      "\u001b[1;32m<ipython-input-81-d0405b3c926a>\u001b[0m in \u001b[0;36m<module>\u001b[1;34m\u001b[0m\n\u001b[0;32m      1\u001b[0m \u001b[0mres\u001b[0m \u001b[1;33m=\u001b[0m \u001b[0mdate_time_obj\u001b[0m \u001b[1;33m-\u001b[0m \u001b[0mdate_time_obj2\u001b[0m\u001b[1;33m\u001b[0m\u001b[1;33m\u001b[0m\u001b[0m\n\u001b[1;32m----> 2\u001b[1;33m \u001b[0mres\u001b[0m\u001b[1;33m.\u001b[0m\u001b[0mmonth\u001b[0m\u001b[1;33m\u001b[0m\u001b[1;33m\u001b[0m\u001b[0m\n\u001b[0m",
      "\u001b[1;31mAttributeError\u001b[0m: 'datetime.timedelta' object has no attribute 'month'"
     ]
    }
   ],
   "source": [
    "res = date_time_obj - date_time_obj2\n",
    "res.month"
   ]
  },
  {
   "cell_type": "code",
   "execution_count": 44,
   "metadata": {},
   "outputs": [
    {
     "data": {
      "text/plain": [
       "'#2 30 Mar 2021 11:08:17 Hans'"
      ]
     },
     "execution_count": 44,
     "metadata": {},
     "output_type": "execute_result"
    }
   ],
   "source": [
    "check"
   ]
  },
  {
   "cell_type": "code",
   "execution_count": null,
   "metadata": {},
   "outputs": [],
   "source": []
  },
  {
   "cell_type": "code",
   "execution_count": 22,
   "metadata": {},
   "outputs": [
    {
     "data": {
      "text/plain": [
       "'#2 30 Mar 2021 10:34:59 Hans'"
      ]
     },
     "execution_count": 22,
     "metadata": {},
     "output_type": "execute_result"
    }
   ],
   "source": [
    "i = user_msg_list[1]\n",
    "i"
   ]
  },
  {
   "cell_type": "code",
   "execution_count": 23,
   "metadata": {},
   "outputs": [
    {
     "data": {
      "text/plain": [
       "['3', '29 Mar 2021 16:46:03', 'Hans', 'bye', 'no']"
      ]
     },
     "execution_count": 23,
     "metadata": {},
     "output_type": "execute_result"
    }
   ],
   "source": [
    "temp_lst"
   ]
  },
  {
   "cell_type": "code",
   "execution_count": 37,
   "metadata": {},
   "outputs": [
    {
     "data": {
      "text/plain": [
       "'3; 30 Mar 2021 11:00:39; Hans; Computer Network Rocks; yes'"
      ]
     },
     "execution_count": 37,
     "metadata": {},
     "output_type": "execute_result"
    }
   ],
   "source": [
    "t = time.ctime().split()\n",
    "cur_t = t[2] + ' ' + t[1] + ' ' + t[-1] + ' ' + t[-2]\n",
    "temp_lst[1] = cur_t\n",
    "temp_lst[-1] = 'yes'\n",
    "temp_lst[-2] = new_msg\n",
    "'; '.join(temp_lst)"
   ]
  },
  {
   "cell_type": "code",
   "execution_count": 34,
   "metadata": {},
   "outputs": [
    {
     "data": {
      "text/plain": [
       "'30 Mar 2021 10:59:38'"
      ]
     },
     "execution_count": 34,
     "metadata": {},
     "output_type": "execute_result"
    }
   ],
   "source": [
    "t = time.ctime().split()\n",
    "cur_t = t[2] + ' ' + t[1] + ' ' + t[-1] + ' ' + t[-2]\n",
    "cur_t"
   ]
  },
  {
   "cell_type": "code",
   "execution_count": 18,
   "metadata": {},
   "outputs": [
    {
     "data": {
      "text/plain": [
       "'#2 30 Mar 2021 10:34:59 Hans'"
      ]
     },
     "execution_count": 18,
     "metadata": {},
     "output_type": "execute_result"
    }
   ],
   "source": [
    "check"
   ]
  },
  {
   "cell_type": "code",
   "execution_count": 19,
   "metadata": {},
   "outputs": [
    {
     "data": {
      "text/plain": [
       "'Computer Network Rocks'"
      ]
     },
     "execution_count": 19,
     "metadata": {},
     "output_type": "execute_result"
    }
   ],
   "source": [
    "new_msg"
   ]
  },
  {
   "cell_type": "code",
   "execution_count": 6,
   "metadata": {},
   "outputs": [
    {
     "data": {
      "text/plain": [
       "'Tue Mar 30 01:41:38 2021'"
      ]
     },
     "execution_count": 6,
     "metadata": {},
     "output_type": "execute_result"
    }
   ],
   "source": [
    "import time\n",
    "time.ctime()"
   ]
  },
  {
   "cell_type": "code",
   "execution_count": 5,
   "metadata": {},
   "outputs": [
    {
     "data": {
      "text/plain": [
       "['3', '29 Mar 2021 16:46:03', 'Hans', 'bye', 'no']"
      ]
     },
     "execution_count": 5,
     "metadata": {},
     "output_type": "execute_result"
    }
   ],
   "source": [
    "temp_lst"
   ]
  },
  {
   "cell_type": "code",
   "execution_count": 2,
   "metadata": {},
   "outputs": [
    {
     "data": {
      "text/plain": [
       "['1; 29 Mar 2021 16:45:42; yoda; hello; no\\n',\n",
       " '2; 29 Mar 2021 16:45:54; Hans; nihao; no\\n',\n",
       " '3; 29 Mar 2021 16:45:59; yoda; nihao; no\\n',\n",
       " '4; 29 Mar 2021 16:46:03; Hans; bye; no\\n']"
      ]
     },
     "execution_count": 2,
     "metadata": {},
     "output_type": "execute_result"
    }
   ],
   "source": [
    "d"
   ]
  }
 ],
 "metadata": {
  "kernelspec": {
   "display_name": "Python 3",
   "language": "python",
   "name": "python3"
  },
  "language_info": {
   "codemirror_mode": {
    "name": "ipython",
    "version": 3
   },
   "file_extension": ".py",
   "mimetype": "text/x-python",
   "name": "python",
   "nbconvert_exporter": "python",
   "pygments_lexer": "ipython3",
   "version": "3.7.1"
  }
 },
 "nbformat": 4,
 "nbformat_minor": 2
}
