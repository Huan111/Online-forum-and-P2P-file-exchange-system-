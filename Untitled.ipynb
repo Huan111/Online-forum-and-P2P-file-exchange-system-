{
 "cells": [
  {
   "cell_type": "code",
   "execution_count": 16,
   "metadata": {},
   "outputs": [
    {
     "data": {
      "text/plain": [
       "'Hans, 127.0.0.1, 6666, active since 29 Mar 2021 17:13:48\\nyoda, 127.0.0.1, 7777, active since 29 Mar 2021 17:14:05\\n'"
      ]
     },
     "execution_count": 16,
     "metadata": {},
     "output_type": "execute_result"
    }
   ],
   "source": [
    "user = 'Hans'\n",
    "with open('userlog.txt') as f:\n",
    "    d = f.readlines()\n",
    "    temp_str = ''\n",
    "    for i in d:\n",
    "        temp_list = i.strip().split('; ')\n",
    "        name = temp_list[2]\n",
    "        if user == name:\n",
    "            continue\n",
    "        t = temp_list[1]\n",
    "        ip = temp_list[-2]\n",
    "        port = temp_list[-1]\n",
    "        temp_str += name + ', '+ ip + ', ' + port + ', active since ' + t +'\\n'\n",
    "temp_str"
   ]
  },
  {
   "cell_type": "code",
   "execution_count": 15,
   "metadata": {},
   "outputs": [
    {
     "data": {
      "text/plain": [
       "'Hans, 127.0.0.1, 6666, active since 29 Mar 2021 16:55:18\\n'"
      ]
     },
     "execution_count": 15,
     "metadata": {},
     "output_type": "execute_result"
    }
   ],
   "source": [
    "temp_str = ''\n",
    "temp_list = d[0].strip().split('; ')\n",
    "name = temp_list[2]\n",
    "t = temp_list[1]\n",
    "ip = temp_list[-2]\n",
    "port = temp_list[-1]\n",
    "temp_str += name + ', '+ ip + ', ' + port + ', active since ' + t +'\\n'\n",
    "temp_str"
   ]
  },
  {
   "cell_type": "code",
   "execution_count": 1,
   "metadata": {},
   "outputs": [],
   "source": [
    "temp_list = 'DLT #2 29 Mar 2021 16:45:54'.strip().split()\n",
    "user = 'Hans'\n",
    "user_msg_list = []\n",
    "check = ' '.join(temp_list[1:]) + ' ' + user\n",
    "#extract the message file\n",
    "with open(\"messagelog1.txt\", \"r\") as f:\n",
    "    d = f.readlines()\n",
    "    for i in d:\n",
    "        lst = i.strip().split('; ')\n",
    "        temp_user = lst[2]\n",
    "        temp_mg = lst[1]\n",
    "        temp_num = lst[0]\n",
    "        user_msg_list.append( '#' + temp_num + ' ' + temp_mg + ' ' + temp_user)\n",
    "#if the 3 condctions are not matched, send back error message \n",
    "if check not in user_msg_list:\n",
    "    #conn.send('Delete the message fail. Please check the input.')\n",
    "    #print('in list')\n",
    "    pass\n",
    "#if match, find the corresponding seq number then delete, and move up\n",
    "else:\n",
    "    idx = user_msg_list.index(check) + 1\n",
    "    with open('messagelog1.txt','r+') as f:\n",
    "        d = f.readlines()\n",
    "        f.seek(0)\n",
    "        for i in d:\n",
    "            temp_lst = i.strip().split('; ')\n",
    "            if int(temp_lst[0]) != idx:\n",
    "                if int(temp_lst[0]) > idx:\n",
    "                    new_idx = str(int(temp_lst[0]) - 1)\n",
    "                    temp_lst[0] = new_idx\n",
    "                    i = '; '.join(temp_lst) + '\\n'\n",
    "                else:\n",
    "                    pass\n",
    "                f.write(i)\n",
    "            else:\n",
    "                msg = temp_lst[-2]\n",
    "                continue\n",
    "        f.truncate()\n",
    "#if the user sent a message\n",
    "#with open('messagelog1.txt','r+') as f:#\n",
    "#    d = f.readlines()\n",
    "    #f.seek(0)\n",
    "    #if the current time is 10s less than the last failed login time. remain in the block list\n",
    "    #for i in d:\n",
    "    #    b_t = float(i.strip().split()[1])\n",
    "    #    if (t - b_t) <= 10:\n",
    "    #        f.write(i)\n",
    "    #f.truncate()\n",
    "#loop through all the message\n",
    "#i = d[0].strip().split('; ')\n",
    "#del_user = i[2]\n",
    "#if the name not match,\n",
    "#if user != del_user:\n",
    "    \n",
    "#    pass\n",
    "#else:\n",
    "#    temp_msg = '#' + i[0] + ' ' + i[1]\n",
    "#    if temp_msg != check:\n",
    "#        if int(temp[0]) > check_num:\n",
    "#            pass\n",
    "#    else:\n",
    "#        pass"
   ]
  },
  {
   "cell_type": "code",
   "execution_count": 4,
   "metadata": {},
   "outputs": [
    {
     "data": {
      "text/plain": [
       "['#1 29 Mar 2021 16:45:42 yoda',\n",
       " '#2 29 Mar 2021 16:45:54 Hans',\n",
       " '#3 29 Mar 2021 16:45:59 yoda',\n",
       " '#4 29 Mar 2021 16:46:03 Hans']"
      ]
     },
     "execution_count": 4,
     "metadata": {},
     "output_type": "execute_result"
    }
   ],
   "source": [
    "user_msg_list"
   ]
  },
  {
   "cell_type": "code",
   "execution_count": 6,
   "metadata": {},
   "outputs": [
    {
     "data": {
      "text/plain": [
       "'Tue Mar 30 01:41:38 2021'"
      ]
     },
     "execution_count": 6,
     "metadata": {},
     "output_type": "execute_result"
    }
   ],
   "source": [
    "import time\n",
    "time.ctime()"
   ]
  },
  {
   "cell_type": "code",
   "execution_count": 5,
   "metadata": {},
   "outputs": [
    {
     "data": {
      "text/plain": [
       "['3', '29 Mar 2021 16:46:03', 'Hans', 'bye', 'no']"
      ]
     },
     "execution_count": 5,
     "metadata": {},
     "output_type": "execute_result"
    }
   ],
   "source": [
    "temp_lst"
   ]
  },
  {
   "cell_type": "code",
   "execution_count": 2,
   "metadata": {},
   "outputs": [
    {
     "data": {
      "text/plain": [
       "['1; 29 Mar 2021 16:45:42; yoda; hello; no\\n',\n",
       " '2; 29 Mar 2021 16:45:54; Hans; nihao; no\\n',\n",
       " '3; 29 Mar 2021 16:45:59; yoda; nihao; no\\n',\n",
       " '4; 29 Mar 2021 16:46:03; Hans; bye; no\\n']"
      ]
     },
     "execution_count": 2,
     "metadata": {},
     "output_type": "execute_result"
    }
   ],
   "source": [
    "d"
   ]
  }
 ],
 "metadata": {
  "kernelspec": {
   "display_name": "Python 3",
   "language": "python",
   "name": "python3"
  },
  "language_info": {
   "codemirror_mode": {
    "name": "ipython",
    "version": 3
   },
   "file_extension": ".py",
   "mimetype": "text/x-python",
   "name": "python",
   "nbconvert_exporter": "python",
   "pygments_lexer": "ipython3",
   "version": "3.7.1"
  }
 },
 "nbformat": 4,
 "nbformat_minor": 2
}
